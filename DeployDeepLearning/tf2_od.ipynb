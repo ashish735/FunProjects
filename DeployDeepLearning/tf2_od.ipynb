{
 "metadata": {
  "language_info": {
   "codemirror_mode": {
    "name": "ipython",
    "version": 3
   },
   "file_extension": ".py",
   "mimetype": "text/x-python",
   "name": "python",
   "nbconvert_exporter": "python",
   "pygments_lexer": "ipython3",
   "version": 3
  },
  "orig_nbformat": 2,
  "kernelspec": {
   "name": "python_defaultSpec_1596955828021",
   "display_name": "Python 3.7.7 64-bit (conda)"
  }
 },
 "nbformat": 4,
 "nbformat_minor": 2,
 "cells": [
  {
   "cell_type": "markdown",
   "metadata": {},
   "source": [
    "## gRPC Method"
   ]
  },
  {
   "cell_type": "code",
   "execution_count": 13,
   "metadata": {},
   "outputs": [],
   "source": [
    "import grpc\n",
    "import numpy\n",
    "import tensorflow as tf\n",
    "from tensorflow.keras.preprocessing.image import load_img\n",
    "from tensorflow.keras.preprocessing.image import img_to_array\n",
    "from tensorflow_serving.apis import predict_pb2\n",
    "from tensorflow_serving.apis import prediction_service_pb2_grpc\n",
    "import pandas as pd\n",
    "import numpy as np\n",
    "from PIL import Image"
   ]
  },
  {
   "cell_type": "code",
   "execution_count": null,
   "metadata": {},
   "outputs": [],
   "source": []
  },
  {
   "cell_type": "code",
   "execution_count": 14,
   "metadata": {},
   "outputs": [],
   "source": [
    "channel = grpc.insecure_channel('localhost:2525')\n",
    "stub = prediction_service_pb2_grpc.PredictionServiceStub(channel)\n",
    "request = predict_pb2.PredictRequest()\n",
    "request.model_spec.name = 'detect_model'\n",
    "request.model_spec.signature_name = 'serving_default'"
   ]
  },
  {
   "cell_type": "code",
   "execution_count": 15,
   "metadata": {},
   "outputs": [],
   "source": [
    "\n",
    "img = Image.open('cam_image_test.JPG')\n",
    "im_width, im_height = img.size\n",
    "img= np.array(img)\n",
    "img = img.reshape(1, im_height, im_width, 3)\n",
    "\n",
    "# center pixel data\n",
    "#img = img.astype('float32')"
   ]
  },
  {
   "cell_type": "code",
   "execution_count": 16,
   "metadata": {},
   "outputs": [
    {
     "output_type": "execute_result",
     "data": {
      "text/plain": "((1, 540, 960, 3), 540, 960)"
     },
     "metadata": {},
     "execution_count": 16
    }
   ],
   "source": [
    "img.shape, im_height, im_width, "
   ]
  },
  {
   "cell_type": "code",
   "execution_count": 17,
   "metadata": {},
   "outputs": [],
   "source": [
    "request.inputs['input_tensor'].CopyFrom(tf.make_tensor_proto(img, shape=[img.shape[0],im_height,im_width,3]))\n",
    "result = stub.Predict(request, 10.0)"
   ]
  },
  {
   "cell_type": "code",
   "execution_count": 18,
   "metadata": {},
   "outputs": [
    {
     "output_type": "execute_result",
     "data": {
      "text/plain": "       ymin      xmin      ymax      xmax\n0  0.041901  0.532943  0.472991  0.731399\n1  0.485389  0.531159  0.993194  0.750819\n2  0.041901  0.532943  0.472991  0.731399\n3  0.442336  0.303715  0.975175  0.514077\n4  0.052034  0.313935  0.505633  0.511166",
      "text/html": "<div>\n<style scoped>\n    .dataframe tbody tr th:only-of-type {\n        vertical-align: middle;\n    }\n\n    .dataframe tbody tr th {\n        vertical-align: top;\n    }\n\n    .dataframe thead th {\n        text-align: right;\n    }\n</style>\n<table border=\"1\" class=\"dataframe\">\n  <thead>\n    <tr style=\"text-align: right;\">\n      <th></th>\n      <th>ymin</th>\n      <th>xmin</th>\n      <th>ymax</th>\n      <th>xmax</th>\n    </tr>\n  </thead>\n  <tbody>\n    <tr>\n      <th>0</th>\n      <td>0.041901</td>\n      <td>0.532943</td>\n      <td>0.472991</td>\n      <td>0.731399</td>\n    </tr>\n    <tr>\n      <th>1</th>\n      <td>0.485389</td>\n      <td>0.531159</td>\n      <td>0.993194</td>\n      <td>0.750819</td>\n    </tr>\n    <tr>\n      <th>2</th>\n      <td>0.041901</td>\n      <td>0.532943</td>\n      <td>0.472991</td>\n      <td>0.731399</td>\n    </tr>\n    <tr>\n      <th>3</th>\n      <td>0.442336</td>\n      <td>0.303715</td>\n      <td>0.975175</td>\n      <td>0.514077</td>\n    </tr>\n    <tr>\n      <th>4</th>\n      <td>0.052034</td>\n      <td>0.313935</td>\n      <td>0.505633</td>\n      <td>0.511166</td>\n    </tr>\n  </tbody>\n</table>\n</div>"
     },
     "metadata": {},
     "execution_count": 18
    }
   ],
   "source": [
    "boxes = np.array(result.outputs['detection_boxes'].float_val)\n",
    "boxes= boxes.reshape(10,4)\n",
    "boxes.shape\n",
    "df1= pd.DataFrame({'ymin': boxes[:,0], 'xmin': boxes[:,1], 'ymax': boxes[:,2], 'xmax': boxes[:,3]})\n",
    "df1.head()"
   ]
  },
  {
   "cell_type": "code",
   "execution_count": 19,
   "metadata": {},
   "outputs": [
    {
     "output_type": "execute_result",
     "data": {
      "text/plain": "   detection_scores\n0          0.562568\n1          0.544382\n2          0.518533\n3          0.506171\n4          0.501039",
      "text/html": "<div>\n<style scoped>\n    .dataframe tbody tr th:only-of-type {\n        vertical-align: middle;\n    }\n\n    .dataframe tbody tr th {\n        vertical-align: top;\n    }\n\n    .dataframe thead th {\n        text-align: right;\n    }\n</style>\n<table border=\"1\" class=\"dataframe\">\n  <thead>\n    <tr style=\"text-align: right;\">\n      <th></th>\n      <th>detection_scores</th>\n    </tr>\n  </thead>\n  <tbody>\n    <tr>\n      <th>0</th>\n      <td>0.562568</td>\n    </tr>\n    <tr>\n      <th>1</th>\n      <td>0.544382</td>\n    </tr>\n    <tr>\n      <th>2</th>\n      <td>0.518533</td>\n    </tr>\n    <tr>\n      <th>3</th>\n      <td>0.506171</td>\n    </tr>\n    <tr>\n      <th>4</th>\n      <td>0.501039</td>\n    </tr>\n  </tbody>\n</table>\n</div>"
     },
     "metadata": {},
     "execution_count": 19
    }
   ],
   "source": [
    "scores = np.array(result.outputs['detection_scores'].float_val)\n",
    "scores.shape\n",
    "df2=pd.DataFrame({'detection_scores': scores})\n",
    "df2.head()"
   ]
  },
  {
   "cell_type": "code",
   "execution_count": 20,
   "metadata": {},
   "outputs": [
    {
     "output_type": "execute_result",
     "data": {
      "text/plain": "   detection_classes\n0                3.0\n1                3.0\n2                5.0\n3                5.0\n4                3.0",
      "text/html": "<div>\n<style scoped>\n    .dataframe tbody tr th:only-of-type {\n        vertical-align: middle;\n    }\n\n    .dataframe tbody tr th {\n        vertical-align: top;\n    }\n\n    .dataframe thead th {\n        text-align: right;\n    }\n</style>\n<table border=\"1\" class=\"dataframe\">\n  <thead>\n    <tr style=\"text-align: right;\">\n      <th></th>\n      <th>detection_classes</th>\n    </tr>\n  </thead>\n  <tbody>\n    <tr>\n      <th>0</th>\n      <td>3.0</td>\n    </tr>\n    <tr>\n      <th>1</th>\n      <td>3.0</td>\n    </tr>\n    <tr>\n      <th>2</th>\n      <td>5.0</td>\n    </tr>\n    <tr>\n      <th>3</th>\n      <td>5.0</td>\n    </tr>\n    <tr>\n      <th>4</th>\n      <td>3.0</td>\n    </tr>\n  </tbody>\n</table>\n</div>"
     },
     "metadata": {},
     "execution_count": 20
    }
   ],
   "source": [
    "classes = np.array(result.outputs['detection_classes'].float_val)\n",
    "classes.shape\n",
    "df3=pd.DataFrame({'detection_classes': classes})\n",
    "df3.head()"
   ]
  },
  {
   "cell_type": "code",
   "execution_count": 21,
   "metadata": {},
   "outputs": [
    {
     "output_type": "execute_result",
     "data": {
      "text/plain": "       ymin      xmin      ymax      xmax  detection_scores  detection_classes\n0  0.041901  0.532943  0.472991  0.731399          0.562568                3.0\n1  0.485389  0.531159  0.993194  0.750819          0.544382                3.0\n2  0.041901  0.532943  0.472991  0.731399          0.518533                5.0\n3  0.442336  0.303715  0.975175  0.514077          0.506171                5.0\n4  0.052034  0.313935  0.505633  0.511166          0.501039                3.0",
      "text/html": "<div>\n<style scoped>\n    .dataframe tbody tr th:only-of-type {\n        vertical-align: middle;\n    }\n\n    .dataframe tbody tr th {\n        vertical-align: top;\n    }\n\n    .dataframe thead th {\n        text-align: right;\n    }\n</style>\n<table border=\"1\" class=\"dataframe\">\n  <thead>\n    <tr style=\"text-align: right;\">\n      <th></th>\n      <th>ymin</th>\n      <th>xmin</th>\n      <th>ymax</th>\n      <th>xmax</th>\n      <th>detection_scores</th>\n      <th>detection_classes</th>\n    </tr>\n  </thead>\n  <tbody>\n    <tr>\n      <th>0</th>\n      <td>0.041901</td>\n      <td>0.532943</td>\n      <td>0.472991</td>\n      <td>0.731399</td>\n      <td>0.562568</td>\n      <td>3.0</td>\n    </tr>\n    <tr>\n      <th>1</th>\n      <td>0.485389</td>\n      <td>0.531159</td>\n      <td>0.993194</td>\n      <td>0.750819</td>\n      <td>0.544382</td>\n      <td>3.0</td>\n    </tr>\n    <tr>\n      <th>2</th>\n      <td>0.041901</td>\n      <td>0.532943</td>\n      <td>0.472991</td>\n      <td>0.731399</td>\n      <td>0.518533</td>\n      <td>5.0</td>\n    </tr>\n    <tr>\n      <th>3</th>\n      <td>0.442336</td>\n      <td>0.303715</td>\n      <td>0.975175</td>\n      <td>0.514077</td>\n      <td>0.506171</td>\n      <td>5.0</td>\n    </tr>\n    <tr>\n      <th>4</th>\n      <td>0.052034</td>\n      <td>0.313935</td>\n      <td>0.505633</td>\n      <td>0.511166</td>\n      <td>0.501039</td>\n      <td>3.0</td>\n    </tr>\n  </tbody>\n</table>\n</div>"
     },
     "metadata": {},
     "execution_count": 21
    }
   ],
   "source": [
    "df_final= pd.concat([df1, df2, df3], axis=1)\n",
    "df_final.head()"
   ]
  },
  {
   "cell_type": "code",
   "execution_count": 22,
   "metadata": {},
   "outputs": [],
   "source": [
    "df_final=df_final[df_final['detection_scores']>0.30]\n",
    "df_array=df_final.to_numpy()"
   ]
  },
  {
   "cell_type": "code",
   "execution_count": 23,
   "metadata": {},
   "outputs": [],
   "source": [
    "#Tensorflow also has non max suppression algorithm\n",
    "def non_max_suppression_fast(boxes, overlapThresh):\n",
    "\t# if there are no boxes, return an empty list\n",
    "    if len(boxes) == 0:\n",
    "        return []\n",
    "    # if the bounding boxes integers, convert them to floats --\n",
    "    # this is important since we'll be doing a bunch of divisions\n",
    "    if boxes.dtype.kind == \"i\":\n",
    "        boxes = boxes.astype(\"float\")\n",
    "    # initialize the list of picked indexes\t\n",
    "    pick = []\n",
    "    # grab the coordinates of the bounding boxes\n",
    "    y1 = boxes[:,0]\n",
    "    x1 = boxes[:,1]\n",
    "    y2 = boxes[:,2]\n",
    "    x2 = boxes[:,3]\n",
    "    d_score = boxes[:,4]\n",
    "\n",
    "    \n",
    "    # compute the area of the bounding boxes and sort the bounding\n",
    "    # boxes by the bottom-right y-coordinate of the bounding box\n",
    "    area = (x2 - x1 + 1) * (y2 - y1 + 1)\n",
    "    idxs = np.argsort(y2)\n",
    "    # keep looping while some indexes still remain in the indexes\n",
    "    # list\n",
    "    while len(idxs) > 0:\n",
    "        # grab the last index in the indexes list and add the\n",
    "        # index value to the list of picked indexes\n",
    "        last = len(idxs) - 1\n",
    "        i = idxs[last]\n",
    "        pick.append(i)\n",
    "        # find the largest (x, y) coordinates for the start of\n",
    "        # the bounding box and the smallest (x, y) coordinates\n",
    "        # for the end of the bounding box\n",
    "        xx1 = np.maximum(x1[i], x1[idxs[:last]])\n",
    "        yy1 = np.maximum(y1[i], y1[idxs[:last]])\n",
    "        xx2 = np.minimum(x2[i], x2[idxs[:last]])\n",
    "        yy2 = np.minimum(y2[i], y2[idxs[:last]])\n",
    "        # compute the width and height of the bounding box\n",
    "        w = np.maximum(0, xx2 - xx1 + 1)\n",
    "        h = np.maximum(0, yy2 - yy1 + 1)\n",
    "        # compute the ratio of overlap\n",
    "        overlap = (w * h) / area[idxs[:last]]\n",
    "        scores_ = d_score[idxs[:last]]\n",
    "        # delete all indexes from the index list that have\n",
    "        idxs = np.delete(idxs, np.concatenate(([last],\n",
    "        np.where(overlap > overlapThresh)[0])))\n",
    "        # return only the bounding boxes that were picked using the\n",
    "        # integer data type\n",
    "    return boxes[[pick]]"
   ]
  },
  {
   "cell_type": "code",
   "execution_count": 24,
   "metadata": {
    "tags": []
   },
   "outputs": [
    {
     "output_type": "stream",
     "name": "stdout",
     "text": "(8, 6)\n(4, 6)\n"
    }
   ],
   "source": [
    "print(df_array.shape)\n",
    "pick= non_max_suppression_fast(df_array, 0.9)\n",
    "print(pick.shape)"
   ]
  },
  {
   "cell_type": "code",
   "execution_count": 25,
   "metadata": {},
   "outputs": [],
   "source": [
    "pick= pd.DataFrame(pick, columns=['ymin', 'xmin', 'ymax', 'xmax', 'detection_scores',\t'detection_classes'])"
   ]
  },
  {
   "cell_type": "code",
   "execution_count": 34,
   "metadata": {},
   "outputs": [
    {
     "output_type": "execute_result",
     "data": {
      "text/plain": "       ymin      xmin      ymax      xmax  detection_scores detection_classes\n0  0.485389  0.531159  0.993194  0.750819          0.494667              king\n1  0.466983  0.296644  0.986787  0.520197          0.463392              jack\n2  0.052034  0.313935  0.505633  0.511166          0.501039              jack\n3  0.041901  0.532943  0.472991  0.731399          0.518533              king",
      "text/html": "<div>\n<style scoped>\n    .dataframe tbody tr th:only-of-type {\n        vertical-align: middle;\n    }\n\n    .dataframe tbody tr th {\n        vertical-align: top;\n    }\n\n    .dataframe thead th {\n        text-align: right;\n    }\n</style>\n<table border=\"1\" class=\"dataframe\">\n  <thead>\n    <tr style=\"text-align: right;\">\n      <th></th>\n      <th>ymin</th>\n      <th>xmin</th>\n      <th>ymax</th>\n      <th>xmax</th>\n      <th>detection_scores</th>\n      <th>detection_classes</th>\n    </tr>\n  </thead>\n  <tbody>\n    <tr>\n      <th>0</th>\n      <td>0.485389</td>\n      <td>0.531159</td>\n      <td>0.993194</td>\n      <td>0.750819</td>\n      <td>0.494667</td>\n      <td>king</td>\n    </tr>\n    <tr>\n      <th>1</th>\n      <td>0.466983</td>\n      <td>0.296644</td>\n      <td>0.986787</td>\n      <td>0.520197</td>\n      <td>0.463392</td>\n      <td>jack</td>\n    </tr>\n    <tr>\n      <th>2</th>\n      <td>0.052034</td>\n      <td>0.313935</td>\n      <td>0.505633</td>\n      <td>0.511166</td>\n      <td>0.501039</td>\n      <td>jack</td>\n    </tr>\n    <tr>\n      <th>3</th>\n      <td>0.041901</td>\n      <td>0.532943</td>\n      <td>0.472991</td>\n      <td>0.731399</td>\n      <td>0.518533</td>\n      <td>king</td>\n    </tr>\n  </tbody>\n</table>\n</div>"
     },
     "metadata": {},
     "execution_count": 34
    }
   ],
   "source": [
    "pick"
   ]
  },
  {
   "cell_type": "code",
   "execution_count": 32,
   "metadata": {},
   "outputs": [],
   "source": [
    "pd.set_option('mode.chained_assignment', 'raise')\n",
    "class_dict={1:'nine', 2:'ten', 3:'jack', 4:'queen', 5:'king', 6:'ace'}\n",
    "for i in range(len(pick)):\n",
    "    pick.loc[i,'detection_classes']=class_dict[pick['detection_classes'][i]]"
   ]
  },
  {
   "cell_type": "code",
   "execution_count": 10,
   "metadata": {},
   "outputs": [],
   "source": [
    "def plot_rec(coor, img, label='', color=(255,0,0),text_place='up'):\n",
    "    x1, y1, x2, y2 = coor\n",
    "    draw_img = cv2.rectangle(img, (int(x1), int(y1)), (int(x2), int(y2)), color, thickness=3)\n",
    "    if text_place== 'up':\n",
    "        cv2.putText(draw_img, label, (int(x1), int(y1)), cv2.FONT_HERSHEY_DUPLEX, 1, color, 2)\n",
    "    if text_place== 'down':\n",
    "        cv2.putText(draw_img, label, (int(x1), int(y2)), cv2.FONT_HERSHEY_DUPLEX, 1, color, 2)\n",
    "\n",
    "    return draw_img"
   ]
  },
  {
   "cell_type": "code",
   "execution_count": 20,
   "metadata": {},
   "outputs": [
    {
     "output_type": "execute_result",
     "data": {
      "text/plain": "True"
     },
     "metadata": {},
     "execution_count": 20
    }
   ],
   "source": [
    "import cv2\n",
    "cv_img = cv2.imread('cam_image_test.jpg')\n",
    "class_dict={1:'nine', 2:'ten', 3:'jack', 4:'queen', 5:'king', 6:'ace'}\n",
    "for i ,j in pick.iterrows():\n",
    "    x1 = j.xmin*im_width\n",
    "    y1= j.ymin*im_height\n",
    "    x2= j.xmax*im_width\n",
    "    y2= j.ymax*im_height\n",
    "    label= class_dict[j.detection_classes]\n",
    "    anno_img = plot_rec((x1, y1, x2, y2), cv_img, label, color= (0,0,255),text_place= 'up')\n",
    "cv2.imwrite('camlana_out.jpg', anno_img)"
   ]
  },
  {
   "cell_type": "markdown",
   "metadata": {},
   "source": [
    "## REST API Method"
   ]
  },
  {
   "cell_type": "code",
   "execution_count": 2,
   "metadata": {},
   "outputs": [],
   "source": [
    "import requests\n",
    "import pandas as pd\n",
    "import base64"
   ]
  },
  {
   "cell_type": "code",
   "execution_count": 6,
   "metadata": {},
   "outputs": [],
   "source": [
    "url = 'https://localhost:1337/object'\n",
    "my_img = {'image': open('cards.JPG', 'rb')}\n",
    "r = requests.post(url, files=my_img, verify=False)"
   ]
  },
  {
   "cell_type": "code",
   "execution_count": 7,
   "metadata": {},
   "outputs": [],
   "source": [
    "result= pd.DataFrame.from_dict(r.json()['results'])"
   ]
  },
  {
   "cell_type": "code",
   "execution_count": 8,
   "metadata": {},
   "outputs": [
    {
     "output_type": "execute_result",
     "data": {
      "text/plain": "  detection_classes  detection_scores        xmax        xmin        ymax  \\\n0              jack          0.593949  510.526111  337.734112  666.769852   \n1              jack          0.529973  710.366973  531.605939  661.058131   \n2              king          0.416453  307.026587  138.646746  659.883928   \n3              jack          0.387478  485.081333  315.709172  405.402563   \n4               ace          0.666395  298.227023  131.417667  396.632049   \n5              jack          0.428126  868.343900  663.106278  385.904755   \n\n         ymin  \n0  407.773814  \n1  410.739781  \n2  415.151084  \n3  152.917281  \n4  155.129962  \n5  110.416858  ",
      "text/html": "<div>\n<style scoped>\n    .dataframe tbody tr th:only-of-type {\n        vertical-align: middle;\n    }\n\n    .dataframe tbody tr th {\n        vertical-align: top;\n    }\n\n    .dataframe thead th {\n        text-align: right;\n    }\n</style>\n<table border=\"1\" class=\"dataframe\">\n  <thead>\n    <tr style=\"text-align: right;\">\n      <th></th>\n      <th>detection_classes</th>\n      <th>detection_scores</th>\n      <th>xmax</th>\n      <th>xmin</th>\n      <th>ymax</th>\n      <th>ymin</th>\n    </tr>\n  </thead>\n  <tbody>\n    <tr>\n      <th>0</th>\n      <td>jack</td>\n      <td>0.593949</td>\n      <td>510.526111</td>\n      <td>337.734112</td>\n      <td>666.769852</td>\n      <td>407.773814</td>\n    </tr>\n    <tr>\n      <th>1</th>\n      <td>jack</td>\n      <td>0.529973</td>\n      <td>710.366973</td>\n      <td>531.605939</td>\n      <td>661.058131</td>\n      <td>410.739781</td>\n    </tr>\n    <tr>\n      <th>2</th>\n      <td>king</td>\n      <td>0.416453</td>\n      <td>307.026587</td>\n      <td>138.646746</td>\n      <td>659.883928</td>\n      <td>415.151084</td>\n    </tr>\n    <tr>\n      <th>3</th>\n      <td>jack</td>\n      <td>0.387478</td>\n      <td>485.081333</td>\n      <td>315.709172</td>\n      <td>405.402563</td>\n      <td>152.917281</td>\n    </tr>\n    <tr>\n      <th>4</th>\n      <td>ace</td>\n      <td>0.666395</td>\n      <td>298.227023</td>\n      <td>131.417667</td>\n      <td>396.632049</td>\n      <td>155.129962</td>\n    </tr>\n    <tr>\n      <th>5</th>\n      <td>jack</td>\n      <td>0.428126</td>\n      <td>868.343900</td>\n      <td>663.106278</td>\n      <td>385.904755</td>\n      <td>110.416858</td>\n    </tr>\n  </tbody>\n</table>\n</div>"
     },
     "metadata": {},
     "execution_count": 8
    }
   ],
   "source": [
    "result"
   ]
  },
  {
   "cell_type": "code",
   "execution_count": 12,
   "metadata": {},
   "outputs": [
    {
     "output_type": "execute_result",
     "data": {
      "text/plain": "True"
     },
     "metadata": {},
     "execution_count": 12
    }
   ],
   "source": [
    "import cv2\n",
    "cv_img = cv2.imread('cards.JPG')\n",
    "for i ,j in result.iterrows():\n",
    "    x1 = j.xmin\n",
    "    y1= j.ymin\n",
    "    x2= j.xmax\n",
    "    y2= j.ymax\n",
    "    label= j.detection_classes\n",
    "    anno_img = plot_rec((x1, y1, x2, y2), cv_img, label, color= (0,0,255),text_place= 'down')\n",
    "cv2.imwrite('cards_out_2.jpg', anno_img)"
   ]
  }
 ]
}