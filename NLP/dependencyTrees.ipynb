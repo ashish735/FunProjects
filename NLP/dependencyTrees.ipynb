{
 "metadata": {
  "language_info": {
   "codemirror_mode": {
    "name": "ipython",
    "version": 3
   },
   "file_extension": ".py",
   "mimetype": "text/x-python",
   "name": "python",
   "nbconvert_exporter": "python",
   "pygments_lexer": "ipython3",
   "version": "3.7.7-final"
  },
  "orig_nbformat": 2,
  "kernelspec": {
   "name": "python_defaultSpec_1597559900153",
   "display_name": "Python 3.7.7 64-bit (conda)"
  }
 },
 "nbformat": 4,
 "nbformat_minor": 2,
 "cells": [
  {
   "cell_type": "markdown",
   "metadata": {},
   "source": [
    "## Introduction to Computational Linguistics and Dependency Trees in data science\n",
    "\n",
    "https://www.analyticsvidhya.com/blog/2017/12/introduction-computational-linguistics-dependency-trees/?utm_source=blog&utm_medium=introduction-information-extraction-python-spacy"
   ]
  },
  {
   "cell_type": "markdown",
   "metadata": {},
   "source": [
    "For example, a conversation system which is trained using recurrent neural network produces the following results in two scenarios:\n",
    "\n",
    "User: Hi, I took a horrible picture in a museum, can you tell where is it located?\n",
    "Bot Reply 1: The museum is located at a horrible place\n",
    "\n",
    "User: Hi, I took a horrible picture in a museum, can you tell where is it located?\n",
    "Bot Reply 2: The horrible museum is located at this place\n",
    "\n",
    "The two responses have virtually similar tokens but different structures which completely changes the context. In this article, I will discuss the interdisciplinary field of Computational Linguistics which deals with the structural aspects of the text that are used to solve common text related problems. Some examples are Named entity extraction, coreference resolution, and machine translation."
   ]
  },
  {
   "cell_type": "markdown",
   "metadata": {},
   "source": [
    "Computational linguistics\n",
    "\n",
    "Computational linguistics often overlaps with the field of Natural Language Processing as most of the tasks are common to both the fields. While Natural Language Processing focuses on the tokens/tags and uses them as predictors in machine learning models, Computational Linguistics digs further deeper into the relationships and links among them.\n",
    "\n",
    "Structural aspects of the text refer to the organization of tokens in a sentence and the how the contexts among them are interrelated. This organization is often depicted by the word-to-word grammar relationships which are also known as dependencies. Dependency is the notion that syntactic units (words) are connected to each other by directed links which describe the relationship possessed by the connected words."
   ]
  },
  {
   "cell_type": "markdown",
   "metadata": {},
   "source": [
    "These dependencies map directly onto a directed graph representation, in which words in the sentence are nodes in the graph and grammatical relations are edge labels. This directed graph representation is also called as the dependency tree. For example, the dependency tree of the sentence is shown in the figure below:"
   ]
  },
  {
   "cell_type": "markdown",
   "metadata": {},
   "source": [
    "Another way to represent this tree is following:\n",
    "\n",
    "-> community-NN (root)\n",
    "-> AnalyticsVidhya-NNP (nsubj)\n",
    "-> is-VBZ (cop)\n",
    "-> the-DT (det)\n",
    "-> largest-JJS (amod)\n",
    "-> scientists-NNS (pobj)\n",
    "-> of-IN (prep)\n",
    "-> data-NNS (case)\n",
    "-> and-CC (cc)\n",
    "-> provides-VBZ (conj)\n",
    "-> resources-NNS (dobj)\n",
    "-> best-JJS (amod)\n",
    "-> understanding-VBG (pcomp)\n",
    "-> for-IN (mark)\n",
    "-> data-NNS (dobj)\n",
    "-> and-CC (cc)\n",
    "-> analytics-NNS (conj)\n",
    "\n",
    "    In this graphical representation of sentence, each term is represented in the pattern of  “  -> Element_A – Element_B (Element_C) “.\n",
    "    Element_A represents the word, Element_B represents the part of speech tag of word, Element C represents the grammar relation among the word and its parent node, and the indentation before the symbol “ -> “ represents the level of a word in the tree. Here is the reference list to understand the dependency relations.\n",
    "    The tree shows that the term “community” is the structural centre of the sentence and is represented as root linked by 7 nodes (“AnalyticsVidhya“, “is“, “the“, “largest“, “and“, “scientists“, “provides“).\n",
    "    Out of these 7 connected nodes, the terms “scientists” and “provides” are the root nodes of two other sub-trees.\n",
    "    Each subtree is a itself a dependency tree with relations such as – (“provides” <-> “resources” <by> “dobj” relation), (“resources” <-> “best” <by> “amod” relation).\n",
    "\n",
    "These trees can be generated in python using libraries such as NLTK, Spacy or Stanford-CoreNLP and can be used to obtain subject-verb-object triplets, noun and verb phrases, grammar dependency relationships, and part of speech tags"
   ]
  },
  {
   "cell_type": "markdown",
   "metadata": {},
   "source": [
    "Applications of Dependency Trees\n",
    "\n",
    "Named Entity Recognition\n",
    "\n",
    "Coreference Resolution or Anaphora Resolution\n",
    "\n",
    "Question Answering\n",
    "\n",
    "Machine Translation\n",
    "\n",
    "Text Summarization\n",
    "\n",
    "Natural Language Generation\n",
    "\n",
    "Natural Language Understanding\n",
    "\n",
    "Speech to Text\n"
   ]
  },
  {
   "cell_type": "markdown",
   "metadata": {},
   "source": [
    "Dependency Trees using Spacy"
   ]
  },
  {
   "cell_type": "code",
   "execution_count": 4,
   "metadata": {
    "tags": []
   },
   "outputs": [
    {
     "output_type": "stream",
     "name": "stdout",
     "text": "The the DET det\nteam team NOUN nsubj\nis be AUX aux\nnot not PART neg\nperforming perform VERB ROOT\nwell well ADV advmod\nin in ADP prep\nthe the DET det\nmatch match NOUN pobj\n"
    }
   ],
   "source": [
    "import spacy\n",
    "nlp = spacy.load(\"en_core_web_sm\")\n",
    "doc = nlp(u'The team is not performing well in the match')\n",
    "for token in doc:\n",
    "    print(str(token.text),  str(token.lemma_),  str(token.pos_),  str(token.dep_))"
   ]
  },
  {
   "cell_type": "code",
   "execution_count": null,
   "metadata": {},
   "outputs": [],
   "source": [
    "from spacy import displacy\n",
    "displacy.serve(doc, style='dep')"
   ]
  },
  {
   "cell_type": "code",
   "execution_count": null,
   "metadata": {},
   "outputs": [],
   "source": []
  }
 ]
}