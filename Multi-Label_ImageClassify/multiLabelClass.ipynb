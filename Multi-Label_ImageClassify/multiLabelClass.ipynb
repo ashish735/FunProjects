{
 "metadata": {
  "language_info": {
   "codemirror_mode": {
    "name": "ipython",
    "version": 3
   },
   "file_extension": ".py",
   "mimetype": "text/x-python",
   "name": "python",
   "nbconvert_exporter": "python",
   "pygments_lexer": "ipython3",
   "version": "3.7.7-final"
  },
  "orig_nbformat": 2,
  "kernelspec": {
   "name": "python_defaultSpec_1597478646766",
   "display_name": "Python 3.7.7 64-bit (conda)"
  }
 },
 "nbformat": 4,
 "nbformat_minor": 2,
 "cells": [
  {
   "cell_type": "markdown",
   "metadata": {},
   "source": [
    "## Multi Label Classification\n",
    "it will only give those output for which it is trained that is if dataset consist of black jeans, red dress and red shirt, it will always give output as red dress and red shirt and never red jeans"
   ]
  },
  {
   "cell_type": "markdown",
   "metadata": {},
   "source": [
    "## better to use multi output models"
   ]
  },
  {
   "cell_type": "markdown",
   "metadata": {},
   "source": [
    "### Multi label classification model was trained with eager execution disabled to give 96% accuracy if the eager execution was not disabled then accuracy was coming to 60%\n"
   ]
  },
  {
   "cell_type": "markdown",
   "metadata": {},
   "source": [
    "### Multi Output model was trained with eager execution enabled"
   ]
  },
  {
   "cell_type": "code",
   "execution_count": 1,
   "metadata": {},
   "outputs": [],
   "source": [
    "from tensorflow.keras.preprocessing.image import img_to_array\n",
    "from tensorflow.keras.models import load_model\n",
    "import numpy as np\n",
    "import argparse\n",
    "import imutils\n",
    "import pickle\n",
    "import cv2\n",
    "import os"
   ]
  },
  {
   "cell_type": "code",
   "execution_count": 2,
   "metadata": {},
   "outputs": [],
   "source": [
    "image = cv2.imread(\"keras-multi-label\\examples\\example_01.jpg\")\n",
    "output = imutils.resize(image, width=400)"
   ]
  },
  {
   "cell_type": "code",
   "execution_count": 3,
   "metadata": {},
   "outputs": [],
   "source": [
    "image = cv2.resize(image, (96, 96))\n",
    "image = image.astype(\"float\") / 255.0\n",
    "image = img_to_array(image)\n",
    "image = np.expand_dims(image, axis=0)"
   ]
  },
  {
   "cell_type": "code",
   "execution_count": 5,
   "metadata": {},
   "outputs": [],
   "source": [
    "model = load_model(\"keras-multi-label\\\\fashion_ashish.model\")\n",
    "mlb = pickle.loads(open(\"keras-multi-label\\mlb_ashish.pickle\", \"rb\").read())"
   ]
  },
  {
   "cell_type": "code",
   "execution_count": 6,
   "metadata": {},
   "outputs": [],
   "source": [
    "proba = model.predict(image)[0]"
   ]
  },
  {
   "cell_type": "code",
   "execution_count": 7,
   "metadata": {},
   "outputs": [
    {
     "output_type": "execute_result",
     "data": {
      "text/plain": "(array([5.9386210e-05, 3.3431461e-06, 9.9999380e-01, 2.8268532e-05,\n        1.0000000e+00, 2.0025991e-05], dtype=float32),\n (6,))"
     },
     "metadata": {},
     "execution_count": 7
    }
   ],
   "source": [
    "proba, proba.shape"
   ]
  },
  {
   "cell_type": "code",
   "execution_count": 9,
   "metadata": {},
   "outputs": [
    {
     "output_type": "execute_result",
     "data": {
      "text/plain": "(array([1, 5, 3, 0, 2, 4], dtype=int64),\n array([4, 2, 0, 3, 5, 1], dtype=int64),\n array([4, 2], dtype=int64))"
     },
     "metadata": {},
     "execution_count": 9
    }
   ],
   "source": [
    "#ascending          descending               top 2\n",
    "np.argsort(proba), np.argsort(proba)[::-1],  np.argsort(proba)[::-1][:2]"
   ]
  }
 ]
}